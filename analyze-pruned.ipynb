{
 "cells": [
  {
   "cell_type": "code",
   "execution_count": null,
   "id": "7cd90e90",
   "metadata": {},
   "outputs": [],
   "source": [
    "import torch\n",
    "import pandas as pd\n",
    "import seaborn as sns\n",
    "import matplotlib.pyplot as plt\n",
    "import json\n",
    "\n",
    "from collections import defaultdict\n",
    "from src.models.debiaser_pruned import DebiaserPruned\n",
    "from nn_pruning.model_structure import BertStructure\n",
    "from analysis.model_card_graphics import DensityBokehPlotter"
   ]
  },
  {
   "cell_type": "code",
   "execution_count": null,
   "id": "79d3f82e",
   "metadata": {},
   "outputs": [],
   "source": [
    "block_name = 'b32'\n",
    "models = [\n",
    "    ('last-sentence', '/remote/csifs1/disk1/przm/models/pruned/B32/bert-base-uncased/last-layer/sentence-debias/multiruns/2021-11-16_14-08-39/0/checkpoints/epoch=99-step=24599.ckpt'),\n",
    "    ('last-token', '/remote/csifs1/disk1/przm/models/pruned/B32/bert-base-uncased/last-layer/token-debias/multiruns/2021-11-16_14-08-39/1/checkpoints/epoch=99-step=24599.ckpt'),\n",
    "    ('all-sentence', '/remote/csifs1/disk1/przm/models/pruned/B32/bert-base-uncased/all-layer/sentence-debias/multiruns/2021-11-16_14-10-53/0/checkpoints/epoch=99-step=24599.ckpt'),\n",
    "    ('all-token', '/remote/csifs1/disk1/przm/models/pruned/B32/bert-base-uncased/all-layer/token-debias/multiruns/2021-11-16_14-10-53/1/checkpoints/epoch=99-step=24599.ckpt'),\n",
    "]"
   ]
  },
  {
   "cell_type": "code",
   "execution_count": null,
   "id": "ad802adb",
   "metadata": {},
   "outputs": [],
   "source": [
    "# block_name = 'b64'\n",
    "# models = [\n",
    "#     ('last-sentence', '/remote/csifs1/disk1/przm/models/pruned/B64/bert-base-uncased/last-layer/sentence-debias/multiruns/2021-11-17_21-43-46/0/checkpoints/epoch=99-step=24599.ckpt'),\n",
    "#     ('last-token', '/remote/csifs1/disk1/przm/models/pruned/B64/bert-base-uncased/last-layer/token-debias/multiruns/2021-11-17_21-43-46/1/checkpoints/epoch=99-step=24599.ckpt'),\n",
    "#     ('all-sentence', '/remote/csifs1/disk1/przm/models/pruned/B64/bert-base-uncased/all-layer/sentence-debias/multiruns/2021-11-17_21-43-46/2/checkpoints/epoch=99-step=24599.ckpt'),\n",
    "#     ('all-token', '/remote/csifs1/disk1/przm/models/pruned/B64/bert-base-uncased/all-layer/token-debias/multiruns/2021-11-17_21-43-46/3/checkpoints/epoch=99-step=24599.ckpt'),\n",
    "# ]"
   ]
  },
  {
   "cell_type": "code",
   "execution_count": null,
   "id": "1ba89b16",
   "metadata": {},
   "outputs": [],
   "source": [
    "# block_name = 'b128'\n",
    "# models = [\n",
    "#     ('last-sentence', '/remote/csifs1/disk1/przm/models/pruned/B128/bert-base-uncased/last-layer/sentence-debias/multiruns/2021-11-24_22-02-04/0/checkpoints/epoch=99-step=24599.ckpt'),\n",
    "#     ('last-token', '/remote/csifs1/disk1/przm/models/pruned/B128/bert-base-uncased/last-layer/token-debias/multiruns/2021-11-24_22-02-04/1/checkpoints/epoch=99-step=24599.ckpt'),\n",
    "#     ('all-sentence', '/remote/csifs1/disk1/przm/models/pruned/B128/bert-base-uncased/all-layer/sentence-debias/multiruns/2021-11-24_22-02-04/2/checkpoints/epoch=99-step=24599.ckpt'),\n",
    "#     ('all-token', '/remote/csifs1/disk1/przm/models/pruned/B128/bert-base-uncased/all-layer/token-debias/multiruns/2021-11-24_22-02-04/3/checkpoints/epoch=99-step=24599.ckpt'),\n",
    "# ]"
   ]
  },
  {
   "cell_type": "code",
   "execution_count": null,
   "id": "624e1cb8",
   "metadata": {},
   "outputs": [],
   "source": [
    "# block_name = 'b64x768-Vonly'\n",
    "# models = [\n",
    "#     ('last-sentence', '/remote/csifs1/disk1/przm/models/pruned/B64x768/V-only_no-fc/bert-base-uncased/last-layer/sentence-debias/multiruns/2021-12-14_22-52-38/0/checkpoints/epoch=99-step=24599.ckpt'),\n",
    "#     ('last-token', '/remote/csifs1/disk1/przm/models/pruned/B64x768/V-only_no-fc/bert-base-uncased/last-layer/token-debias/multiruns/2021-12-14_22-52-38/1/checkpoints/epoch=99-step=24599.ckpt'),\n",
    "#     ('all-sentence', '/remote/csifs1/disk1/przm/models/pruned/B64x768/V-only_no-fc/bert-base-uncased/all-layer/sentence-debias/multiruns/2021-12-14_22-52-38/2/checkpoints/epoch=99-step=24599.ckpt'),\n",
    "#     ('all-token', '/remote/csifs1/disk1/przm/models/pruned/B64x768/V-only_no-fc/bert-base-uncased/all-layer/token-debias/multiruns/2021-12-14_22-52-38/3/checkpoints/epoch=99-step=24599.ckpt'),\n",
    "# ]"
   ]
  },
  {
   "cell_type": "code",
   "execution_count": null,
   "id": "2ba3019e",
   "metadata": {},
   "outputs": [],
   "source": [
    "# block_name = 'b64x768-att-shared'\n",
    "# models = [\n",
    "#     ('last-sentence', '/remote/csifs1/disk1/przm/models/pruned/B64x768/att-only-shared/bert-base-uncased/last-layer/sentence-debias/multiruns/2021-12-14_23-57-20/0/checkpoints/epoch=99-step=24599.ckpt'),\n",
    "#     ('last-token', '/remote/csifs1/disk1/przm/models/pruned/B64x768/att-only-shared/bert-base-uncased/last-layer/token-debias/multiruns/2021-12-14_23-57-20/1/checkpoints/epoch=99-step=24599.ckpt'),\n",
    "#     ('all-sentence', '/remote/csifs1/disk1/przm/models/pruned/B64x768/att-only-shared/bert-base-uncased/all-layer/sentence-debias/multiruns/2021-12-14_23-57-20/2/checkpoints/epoch=99-step=24599.ckpt'),\n",
    "#     ('all-token', '/remote/csifs1/disk1/przm/models/pruned/B64x768/att-only-shared/bert-base-uncased/all-layer/token-debias/multiruns/2021-12-14_23-57-20/3/checkpoints/epoch=99-step=24599.ckpt'),\n",
    "# ]"
   ]
  },
  {
   "cell_type": "code",
   "execution_count": null,
   "id": "055383a6",
   "metadata": {},
   "outputs": [],
   "source": [
    "def get_avg_density_per_layer(layer_info):\n",
    "    layer_avg_density = defaultdict(lambda: 0)\n",
    "    layer_total_numel = defaultdict(lambda: 0)\n",
    "\n",
    "    for info in layer_info:\n",
    "        name = info['name']\n",
    "        density = info['density']\n",
    "        size = info['size']\n",
    "        \n",
    "        numel = size[0] * size[1]\n",
    "        nnz = density * numel\n",
    "\n",
    "        layer_idx = BertStructure.layer_index(name)\n",
    "        \n",
    "        layer_avg_density[layer_idx] += nnz\n",
    "        layer_total_numel[layer_idx] += numel\n",
    "        \n",
    "\n",
    "    for key, val in layer_avg_density.items():\n",
    "        layer_avg_density[key] = val / layer_total_numel[key]\n",
    "\n",
    "    return layer_avg_density"
   ]
  },
  {
   "cell_type": "code",
   "execution_count": null,
   "id": "75715163",
   "metadata": {
    "scrolled": false
   },
   "outputs": [],
   "source": [
    "per_model = {}\n",
    "\n",
    "dbp = DensityBokehPlotter(\"density\", \"$$JS_PATH$$\")\n",
    "\n",
    "\n",
    "for model_name, ckpt_path in models:\n",
    "    \n",
    "    print(f'Proessing {model_name}')\n",
    "    model = DebiaserPruned.load_from_checkpoint(ckpt_path)\n",
    "    removed_heads, total_heads = model.model_patcher.compile_model(model.model_debias.model)\n",
    "    \n",
    "    print(f'{model_name}: removed {removed_heads}/{total_heads}')\n",
    "    \n",
    "    fig, _, _ = dbp.run(model.model_debias.model, 'tmp/imgs', 'tmp/imgs')\n",
    "    \n",
    "    per_model[model_name] = get_avg_density_per_layer(dbp.layers)\n",
    "    \n",
    "    # dump to json\n",
    "    payload = {}\n",
    "    payload['model_name'] = model_name\n",
    "    payload['checkpoint'] = ckpt_path\n",
    "    payload['heads_pruned'] = removed_heads\n",
    "    payload['total_heads'] = total_heads\n",
    "    payload['layers'] = dbp.layers\n",
    "\n",
    "    fname = f\"data/densities/{block_name}/{model_name}.json\"\n",
    "\n",
    "    with open(fname, 'w+') as f:\n",
    "        json.dump(payload, f, indent=4)"
   ]
  },
  {
   "cell_type": "code",
   "execution_count": null,
   "id": "3f4ff6a0",
   "metadata": {
    "scrolled": false
   },
   "outputs": [],
   "source": []
  },
  {
   "cell_type": "code",
   "execution_count": null,
   "id": "bcd0de24",
   "metadata": {},
   "outputs": [],
   "source": [
    "df = pd.DataFrame(per_model)\n",
    "df.head()"
   ]
  },
  {
   "cell_type": "code",
   "execution_count": null,
   "id": "577a99a5",
   "metadata": {},
   "outputs": [],
   "source": [
    "sns.set_theme()\n",
    "sns.despine(left=True, bottom=True)\n",
    "\n",
    "\n",
    "sns.set(rc={'figure.figsize': (12, 4)})\n",
    "\n",
    "\n",
    "fig, ax = plt.subplots()\n",
    "\n",
    "ax = sns.lineplot(\n",
    "    data=df,\n",
    "    dashes=False,\n",
    "    linestyle='-',\n",
    "    markers=['o'] * len(per_model)\n",
    ")\n",
    "\n",
    "ax.set(xlabel='Layer', ylabel='Average Density (%)')\n",
    "\n",
    "plt.savefig(f\"data/fig/avg-sparsity-{block_name}.pdf\", bbox_inches='tight')\n",
    "# plt.savefig(\"data/fig/avg-sparsity-b32.svg\", bbox_inches='tight')\n",
    "# plt.savefig(\"data/fig/avg-sparsity-b32.png\", bbox_inches='tight')\n",
    "\n",
    "plt.show();"
   ]
  },
  {
   "cell_type": "markdown",
   "id": "66662a42",
   "metadata": {},
   "source": [
    "# TODO\n",
    " - [ ] https://seaborn.pydata.org/generated/seaborn.set_palette.html#seaborn.set_palette"
   ]
  },
  {
   "cell_type": "markdown",
   "id": "5bdbac20",
   "metadata": {},
   "source": [
    "### Visualize (HF code)"
   ]
  },
  {
   "cell_type": "code",
   "execution_count": null,
   "id": "9ce26e5b",
   "metadata": {
    "scrolled": false
   },
   "outputs": [],
   "source": [
    "# from bokeh.plotting import show, figure\n",
    "# from bokeh.io import output_notebook, reset_output\n",
    "\n",
    "# try:\n",
    "#     reset_output()\n",
    "#     output_notebook()\n",
    "#     show(fig)\n",
    "# except:\n",
    "#     output_notebook()\n",
    "#     show(fig)\n",
    "\n",
    "# print('blue is preserved, pink is pruned')"
   ]
  }
 ],
 "metadata": {
  "kernelspec": {
   "display_name": "Python 3",
   "language": "python",
   "name": "python3"
  },
  "language_info": {
   "codemirror_mode": {
    "name": "ipython",
    "version": 3
   },
   "file_extension": ".py",
   "mimetype": "text/x-python",
   "name": "python",
   "nbconvert_exporter": "python",
   "pygments_lexer": "ipython3",
   "version": "3.9.5"
  }
 },
 "nbformat": 4,
 "nbformat_minor": 5
}
